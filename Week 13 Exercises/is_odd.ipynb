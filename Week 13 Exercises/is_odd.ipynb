{
 "cells": [
  {
   "cell_type": "code",
   "execution_count": null,
   "id": "68e04c35",
   "metadata": {},
   "outputs": [
    {
     "name": "stdout",
     "output_type": "stream",
     "text": [
      "1.55 is an invalid type for checking\n",
      "None\n"
     ]
    }
   ],
   "source": [
    "def is_odd(number):\n",
    "    \"\"\"\n",
    "    Determines whether a number is odd or even\n",
    "    \"\"\"\n",
    "    try:\n",
    "        if isinstance(number,float):\n",
    "            print(\"Only integers are allowed\")\n",
    "        \n",
    "        #Check if input is a number, return \"Not a number\" if an error\n",
    "        Output=abs(number) % 2 != 0\n",
    "        return Output\n",
    "    \n",
    "    except TypeError:\n",
    "        print(f\"{number} is an invalid type for checking\")\n",
    "\n",
    "assert is_odd(19) == True\n",
    "\n",
    "inputted_number=1.55\n",
    "print(f\"{is_odd(inputted_number)}\")"
   ]
  },
  {
   "cell_type": "code",
   "execution_count": 7,
   "id": "65dc95eb",
   "metadata": {},
   "outputs": [
    {
     "name": "stdout",
     "output_type": "stream",
     "text": [
      "12.0\n",
      "6.0\n",
      "2.4\n",
      "4.0\n",
      "a is an invalid type for division\n",
      "4.0\n",
      "1.3333333333333333\n",
      "0 is an invalid divider\n",
      "End of program\n"
     ]
    }
   ],
   "source": [
    "data =[1,2,5,3,\"a\",3,9,0]\n",
    "\n",
    "for mod in data:\n",
    "    try: \n",
    "        if isinstance(mod,str):\n",
    "            raise TypeError    \n",
    "        print(12 / mod)\n",
    "    except ZeroDivisionError:\n",
    "        print(f\"{mod} is an invalid divider\")\n",
    "    except TypeError:\n",
    "        print(f\"{mod} is an invalid type for division\")\n",
    "print(\"End of program\")"
   ]
  },
  {
   "cell_type": "code",
   "execution_count": 6,
   "id": "9747d158",
   "metadata": {},
   "outputs": [
    {
     "name": "stdout",
     "output_type": "stream",
     "text": [
      "Inputs must not be strings\n",
      "51\n"
     ]
    }
   ],
   "source": [
    "# Ruhee Das Chowdhury\n",
    "def exponent (x, y) :\n",
    "# Check if either x or y is a string\n",
    "    try:\n",
    "        if isinstance(x, str) or isinstance(y, str):\n",
    "            raise ValueError(\"Inputs must not be strings.\")\n",
    "        # Check for y too high for overflow\n",
    "        if x > 50 and y > (x * 10):\n",
    "            raise ValueError(\"Y Value too high and can cause overflow.\")\n",
    "        # Return the exponent\n",
    "    except ValueError:\n",
    "        print(\"Inputs must not be strings\")\n",
    "        return x    \n",
    "    return x ** y\n",
    "\n",
    "    \n",
    "\n",
    "result = exponent(51, 600)\n",
    "print(result)"
   ]
  },
  {
   "cell_type": "code",
   "execution_count": 107,
   "id": "3891d0b7",
   "metadata": {},
   "outputs": [
    {
     "name": "stdout",
     "output_type": "stream",
     "text": [
      "cannot add string and int\n"
     ]
    }
   ],
   "source": [
    "# sushmita bhandari\n",
    "# 3:43 PM\n",
    "# get_full_name\n",
    "def get_full_name(first_name, last_name):\n",
    "    try:\n",
    "        output = first_name + \" \" + last_name\n",
    "    except TypeError:\n",
    "        print(\"cannot add string and int\")\n",
    "        return \"N/A\"\n",
    "    return output\n",
    "\n",
    "#assert get_full_name(\"Matt\", \"Ettridge\") == \"Matt Ettridge\", \"String addition not working\"\n",
    "assert get_full_name(\"Matt\", 20) == \"N/A\", \"Integer throws error\"\n",
    "\n"
   ]
  },
  {
   "cell_type": "markdown",
   "id": "61129f4c",
   "metadata": {},
   "source": [
    "Exercise 3:\n",
    "Sign-Up Password Validator (with Error Handling)\n",
    "You're building a user sign-up system. You must validate the user's password according to specific rules. If the password does not meet the criteria, raise and handle custom exceptions.\n",
    "\n",
    "Requirements:\n",
    "The password must:\n",
    "● Be between 8 and 16 characters long.\n",
    "● Contain at least one uppercase letter.\n",
    "● Contain at least one digit."
   ]
  },
  {
   "cell_type": "code",
   "execution_count": 16,
   "id": "17f17545",
   "metadata": {},
   "outputs": [
    {
     "name": "stdout",
     "output_type": "stream",
     "text": [
      "True\n"
     ]
    }
   ],
   "source": [
    "class InsufficientLengthError(Exception):\n",
    "    \"\"\"Password is not between 8 and 16 characters long\"\"\"\n",
    "    pass    \n",
    "\n",
    "class NoUpperCaseLettersError(Exception):\n",
    "    \"\"\"Password does not contain at least one uppercase letter\"\"\"\n",
    "    pass\n",
    "\n",
    "class NoDigitsError(Exception):\n",
    "    \"\"\"Password does not contain at least one digit\"\"\"\n",
    "    pass\n",
    "\n",
    "def password_validator(Password):\n",
    " # define Python user-defined exceptions\n",
    "\n",
    "    at_least_one_uppercase_letter=0\n",
    "    at_least_one_digit=0\n",
    "\n",
    "    try:\n",
    "        for Character in Password:\n",
    "            #Contain at least one digit.\n",
    "            if Character.isdigit():\n",
    "                at_least_one_digit += 1\n",
    "            #Contain at least one uppercase letter.\n",
    "            elif Character.isalpha and  Character == Character.upper():\n",
    "                at_least_one_uppercase_letter += 1\n",
    "    \n",
    "        if at_least_one_uppercase_letter==0:\n",
    "            raise NoUpperCaseLettersError\n",
    "        elif at_least_one_digit==0:\n",
    "            raise NoDigitsError\n",
    "        elif len(Password) < 8 or len(Password) > 16:\n",
    "            raise InsufficientLengthError\n",
    "        else:\n",
    "            return True\n",
    "    \n",
    "    except InsufficientLengthError:\n",
    "        print(f\"{Password} is not between 8 and 16 characters long\")\n",
    "    except NoUpperCaseLettersError:\n",
    "        print(f\"{Password} does not contain at least one uppercase letter\")\n",
    "    except NoDigitsError:\n",
    "        print(f\"{Password} does not contain at least one digit\")\n",
    "      \n",
    "print(password_validator(\"Password123\"))"
   ]
  },
  {
   "cell_type": "markdown",
   "id": "7752d8ad",
   "metadata": {},
   "source": [
    "Exercise 4:\n",
    "Create a program that simulates a simple bank transfer between two accounts (You are going to defi ne a function to perform the transfer). The user must input:\n",
    "• Their account balance (must be a number ≥ 0)\n",
    "• The amount they want to transfer (must be a number ≥ 0)\n",
    "• The recipient's account number (must be exactly 10 digits, numbers only)\n",
    "\n",
    "You must handle the following errors with meaningful messages:\n",
    "●  ValueError if any input is not a number.\n",
    "●  A custom Exception if:\n",
    "    ○ The balance is less than the transfer amount.\n",
    "    ○ The account number is not exactly 10 digits or contains non-digit characters.\n",
    "    ○ The amount is negative or zero."
   ]
  }
 ],
 "metadata": {
  "kernelspec": {
   "display_name": "Python 3",
   "language": "python",
   "name": "python3"
  },
  "language_info": {
   "codemirror_mode": {
    "name": "ipython",
    "version": 3
   },
   "file_extension": ".py",
   "mimetype": "text/x-python",
   "name": "python",
   "nbconvert_exporter": "python",
   "pygments_lexer": "ipython3",
   "version": "3.11.0"
  }
 },
 "nbformat": 4,
 "nbformat_minor": 5
}
