{
 "cells": [
  {
   "cell_type": "code",
   "execution_count": null,
   "id": "2b29f88f",
   "metadata": {},
   "outputs": [],
   "source": [
    "#Name var, type string, value Matt\n",
    "var = \"Matt\"\n"
   ]
  },
  {
   "cell_type": "code",
   "execution_count": null,
   "id": "a4df2044",
   "metadata": {},
   "outputs": [],
   "source": [
    "liverpool_points = 85\n",
    "arsenal_points = 68\n",
    "\n",
    "if liverpool_points > arsenal_points: #conditional expression, evaluates to True or False, 0 or 1, Boolean with conditional operator \">\"\n",
    "print(\"Hahaha, hahahaha\")\n",
    "#Logical statement is +, - mathematical\n",
    "#Modulo % (remainder of calculation)"
   ]
  },
  {
   "cell_type": "code",
   "execution_count": null,
   "id": "d71d3f87",
   "metadata": {},
   "outputs": [
    {
     "name": "stdout",
     "output_type": "stream",
     "text": [
      "2\n",
      "3\n",
      "4\n",
      "5\n",
      "6\n",
      "7\n",
      "8\n",
      "9\n",
      "10\n"
     ]
    }
   ],
   "source": [
    "for i in range(1, 10): #range is inclusive at the bottom, non-inclusive at the top\n",
    "    print (i + 1) #hence prints numebr 2 to 10\n",
    "\n",
    "#uses variable extraction"
   ]
  },
  {
   "cell_type": "code",
   "execution_count": null,
   "id": "3121ff5a",
   "metadata": {},
   "outputs": [],
   "source": [
    "playing = True\n",
    "while playing:# while loop\n",
    "    resp = input(\"play or stop?: \")#user input\n",
    "    if resp == \"Stop\":\n",
    "        playing = False\n",
    "#to stop a loop, use command \"break\", no brackets"
   ]
  },
  {
   "cell_type": "code",
   "execution_count": null,
   "id": "b45575dd",
   "metadata": {},
   "outputs": [
    {
     "name": "stdout",
     "output_type": "stream",
     "text": [
      "data engineering\n",
      "semiconductors\n"
     ]
    }
   ],
   "source": [
    "#always look at the brackets going down\n",
    "\n",
    "staff = [#this is a list \n",
    "    { #this is a list of dictionaries \n",
    "        \"name\" : \"Matt\",\n",
    "        \"subjects\" : [#python list within dictionary\n",
    "            \"data engineering\",\n",
    "            \"semiconductors\"\n",
    "        ]\n",
    "    },\n",
    "\n",
    "     { #this is a list of dictionaries \n",
    "        \"name\" : \"Val\",\n",
    "        \"subjects\" : [#python list within dictionary\n",
    "            \"data engineering\",\n",
    "            \"software development\"\n",
    "        ]\n",
    "    }\n",
    "]\n",
    "\n",
    "\n",
    "#print the first subject for the second staff member\n",
    "print(staff[1][\"subjects\"][0]) \n",
    "#print the second subject for the first staff member\n",
    "print(staff[0][\"subjects\"][1]) "
   ]
  },
  {
   "cell_type": "code",
   "execution_count": 15,
   "id": "c12559eb",
   "metadata": {},
   "outputs": [
    {
     "name": "stdout",
     "output_type": "stream",
     "text": [
      "Result = 25\n"
     ]
    }
   ],
   "source": [
    "#functions - small bits of code that can be reused later on\n",
    "#functions need to be defined by \"def\", then the name of the function\n",
    "def add(var_1, var_2): #var_1 and var_2 are parameters\n",
    "    #you can use documentation to describe a function. These are called docstrings\n",
    "    #this helps you understand what a function oes quickly\n",
    "    \"\"\" \n",
    "        pretend this is highly detauiled documentation for the add() function\n",
    "    \"\"\"\n",
    "    return var_1 + var_2\n",
    "\n",
    "result = add(5,20)\n",
    "print(\"Result =\", result )"
   ]
  },
  {
   "cell_type": "code",
   "execution_count": null,
   "id": "c4cc1ff6",
   "metadata": {},
   "outputs": [],
   "source": [
    "#classes and objects\n",
    "#The object is what is produced, the class is the design\n",
    "#Classes are the blueprints of objects\n",
    "#Objects are the instances of classes\n",
    "\n",
    "#These allow us to ENCAPSULATE behaviour\n",
    "#you can have context objects that track parameters\n",
    "#you can have functions in classes that define what the object does"
   ]
  },
  {
   "cell_type": "markdown",
   "id": "88799deb",
   "metadata": {},
   "source": [
    "#polymorphism - of many forms. \"is a\" relationships \n",
    "#inheritance - inherit behaviour from parent classes"
   ]
  },
  {
   "cell_type": "code",
   "execution_count": 4,
   "id": "61f17420",
   "metadata": {},
   "outputs": [
    {
     "name": "stdout",
     "output_type": "stream",
     "text": [
      "25\n",
      "Player 1 has 1000 health\n"
     ]
    }
   ],
   "source": [
    "from entity import Entity\n",
    "from player import Player\n",
    "\n",
    "e1 = Entity(100)\n",
    "print(e1.take_damage(75))\n",
    "p1 = Player(\"Player 1\", 1000)\n",
    "print(p1.get_character_desc())"
   ]
  }
 ],
 "metadata": {
  "kernelspec": {
   "display_name": "Python 3",
   "language": "python",
   "name": "python3"
  },
  "language_info": {
   "codemirror_mode": {
    "name": "ipython",
    "version": 3
   },
   "file_extension": ".py",
   "mimetype": "text/x-python",
   "name": "python",
   "nbconvert_exporter": "python",
   "pygments_lexer": "ipython3",
   "version": "3.11.0"
  }
 },
 "nbformat": 4,
 "nbformat_minor": 5
}
