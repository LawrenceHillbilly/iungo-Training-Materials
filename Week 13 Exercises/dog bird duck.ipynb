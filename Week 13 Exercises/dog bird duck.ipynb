{
 "cells": [
  {
   "cell_type": "code",
   "execution_count": 2,
   "id": "e630d33f",
   "metadata": {},
   "outputs": [
    {
     "name": "stdout",
     "output_type": "stream",
     "text": [
      "My name is Rover and I am 10 years old\n",
      "I can swim\n",
      "My name is Donald and I am 25 years old\n",
      "I can swim\n",
      "I can fly\n",
      "My name is Tweety and I am 5 years old\n",
      "I can fly\n"
     ]
    }
   ],
   "source": [
    "#classes and objects\n",
    "from animal import Animal\n",
    "from abilities import Can_Swim\n",
    "from abilities import Can_Fly\n",
    "from dog import Dog\n",
    "from bird import Bird\n",
    "from duck import Duck\n",
    "\n",
    "\n",
    "a1 = Dog(\"Rover\", 10)\n",
    "a2 = Animal(\"Bubbles\", 2)\n",
    "a3 = Bird(\"Tweety\",5)\n",
    "a4 = Duck(\"Donald\",25)\n",
    "\n",
    "\n",
    "print(a1.get_desc())\n",
    "print(a1.swim())\n",
    "\n",
    "\n",
    "print(a4.get_desc())\n",
    "print(a4.swim())\n",
    "print(a4.fly())\n",
    "\n",
    "\n",
    "print(a3.get_desc())\n",
    "print(a3.fly())"
   ]
  }
 ],
 "metadata": {
  "kernelspec": {
   "display_name": "Python 3",
   "language": "python",
   "name": "python3"
  },
  "language_info": {
   "codemirror_mode": {
    "name": "ipython",
    "version": 3
   },
   "file_extension": ".py",
   "mimetype": "text/x-python",
   "name": "python",
   "nbconvert_exporter": "python",
   "pygments_lexer": "ipython3",
   "version": "3.11.0"
  }
 },
 "nbformat": 4,
 "nbformat_minor": 5
}
