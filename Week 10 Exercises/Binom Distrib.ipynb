{
 "cells": [
  {
   "cell_type": "code",
   "execution_count": 20,
   "id": "f7b12412",
   "metadata": {},
   "outputs": [
    {
     "name": "stdout",
     "output_type": "stream",
     "text": [
      "Requirement already satisfied: scipy in c:\\users\\andye\\appdata\\local\\programs\\python\\python311\\lib\\site-packages (1.15.3)\n",
      "Requirement already satisfied: numpy<2.5,>=1.23.5 in c:\\users\\andye\\appdata\\local\\programs\\python\\python311\\lib\\site-packages (from scipy) (2.2.5)\n",
      "Note: you may need to restart the kernel to use updated packages.\n"
     ]
    },
    {
     "name": "stderr",
     "output_type": "stream",
     "text": [
      "\n",
      "[notice] A new release of pip is available: 25.1 -> 25.1.1\n",
      "[notice] To update, run: python.exe -m pip install --upgrade pip\n"
     ]
    }
   ],
   "source": [
    "pip install scipy"
   ]
  },
  {
   "cell_type": "code",
   "execution_count": null,
   "id": "e27a2998",
   "metadata": {},
   "outputs": [
    {
     "name": "stdout",
     "output_type": "stream",
     "text": [
      "0.83692\n"
     ]
    }
   ],
   "source": [
    "#The probability that a student is accepted to a prestigious university is 0.3.\n",
    "# If 5 students from the same school apply, what is the probability that at most 2 are accepted?\n",
    "\n",
    "#import the maths libraries \n",
    "import scipy as sp\n",
    "k = 2\n",
    "n = 5\n",
    "p = 0.3\n",
    "\n",
    "binom_answer = sp.stats.binom.cdf(k, n, p)\n",
    "\n",
    "print(binom_answer)"
   ]
  },
  {
   "cell_type": "code",
   "execution_count": null,
   "id": "01e94663",
   "metadata": {},
   "outputs": [
    {
     "name": "stdout",
     "output_type": "stream",
     "text": [
      "0.26110137039881937\n",
      "0.9999999999999922\n"
     ]
    }
   ],
   "source": [
    "#Out of 50 chips on a wafer, each has p = 0.95 of being functional.\n",
    "# What's the probability of having exactly 48 functional chips?\n",
    "k = 48\n",
    "n = 50\n",
    "p = 0.95\n",
    "\n",
    "#Exact number, so use PMF\n",
    "binom_answer = sp.stats.binom.pmf(k, n, p)\n",
    "\n",
    "print(binom_answer)\n",
    "\n",
    "# What's the probability of at least 30?\n",
    "#for anything less than 30, say \n",
    "k = 29\n",
    "\n",
    "binom_answer = sp.stats.binom.cdf(k, n, p)\n",
    "\n",
    "print(1 - binom_answer)"
   ]
  },
  {
   "cell_type": "code",
   "execution_count": null,
   "id": "05ecba3a",
   "metadata": {},
   "outputs": [
    {
     "name": "stdout",
     "output_type": "stream",
     "text": [
      "0.20613038097752104\n",
      "0.484508940773157\n"
     ]
    }
   ],
   "source": [
    "#You measure how often the statapult hits the target (in the cup!)\n",
    "#The probability of getting it in is 0.7.\n",
    "#What's the probability of getting it in exactly 10 times in 15 shots?\n",
    "\n",
    "k = 10\n",
    "n = 15\n",
    "p = 0.7\n",
    "\n",
    "#Exact number, so use PMF\n",
    "binom_answer = sp.stats.binom.pmf(k, n, p)\n",
    "\n",
    "print(binom_answer)\n",
    "\n",
    "#What's the probability of achieving 10 or fewer in?\n",
    "#At least, so use CDF\n",
    "binom_answer = sp.stats.binom.cdf(k, n, p)\n",
    "\n",
    "print(binom_answer)"
   ]
  },
  {
   "cell_type": "code",
   "execution_count": null,
   "id": "fcef4eeb",
   "metadata": {},
   "outputs": [
    {
     "name": "stdout",
     "output_type": "stream",
     "text": [
      "0.10419563456702102\n",
      "0.8893260215974264\n",
      "0.10419563456702102\n"
     ]
    }
   ],
   "source": [
    "#Discrete Poisson Distribution\n",
    "# #Y ~ Po(A) A - \n",
    "# Models the number of events over a certain interval.\n",
    "#Handles event-based processes occurring randomly over time/space.\n",
    "#scipy.stats.poisson.pmf(k, A)\n",
    "\n",
    "#You average 4 launches into the cup in 1 minute.\n",
    "#What's the probability of exactly 6 in the cup?\n",
    "#What's the probability of 6 or fewer?\n",
    "k = 6\n",
    "mu = 4\n",
    "\n",
    "#Exact number, so use PMF\n",
    "Poisson_answer = sp.stats.poisson.pmf(k, mu)\n",
    "\n",
    "print(Poisson_answer)\n",
    "\n",
    "#At least, so use CDF\n",
    "Poisson_answer = sp.stats.poisson.cdf(k, mu)\n",
    "\n",
    "print(Poisson_answer)"
   ]
  },
  {
   "cell_type": "code",
   "execution_count": 28,
   "id": "30fb1108",
   "metadata": {},
   "outputs": [
    {
     "name": "stdout",
     "output_type": "stream",
     "text": [
      "0.22404180765538775\n",
      "0.9160820579686966\n"
     ]
    }
   ],
   "source": [
    "#A silicon wafer has 3 defects per square cm.\n",
    "mu = 3\n",
    "#What's the probability of finding exactly 2 defects in a 1 square cm area?\n",
    "k = 2\n",
    "\n",
    "#Exact number, so use PMF\n",
    "Poisson_answer = sp.stats.poisson.pmf(k, mu)\n",
    "print(Poisson_answer)\n",
    "\n",
    "#What's the probability of finding 5 or fewer defects?\n",
    "k = 5\n",
    "\n",
    "#At least, so use CDF\n",
    "Poisson_answer = sp.stats.poisson.cdf(k, mu)\n",
    "print(Poisson_answer)\n"
   ]
  },
  {
   "cell_type": "code",
   "execution_count": null,
   "id": "9995b768",
   "metadata": {},
   "outputs": [],
   "source": [
    "# Histograms - Great for frequency distributions. \n",
    "# This way, you can easily spot skewness, outliers and multimodality. \n",
    "# Can be done using matplotlib or seaborn.\n",
    "#plt.hist(data, bins=30, color=\"purple\", alpha=0.6)\n",
    "#sns.histplot(data, bins=30, kde=True, color=\"blue\",alpha=0.6)\n",
    "\n",
    "#Quantile-Quantile (Q-Q) Plot - Compares quantiles of the sample data against \n",
    "# theoretical quantiles of a certain distribution. Useful for looking at how closely\n",
    "# the data displays normality, and makes deviations from the normality very\n",
    "# obvious. Can be done using SciPy, via matplotlib.\n",
    "#plt.subplots(figsize=(6,6))\n",
    "#stats.probplot(data, dist=\"norm\", plot=plt)"
   ]
  }
 ],
 "metadata": {
  "kernelspec": {
   "display_name": "Python 3",
   "language": "python",
   "name": "python3"
  },
  "language_info": {
   "codemirror_mode": {
    "name": "ipython",
    "version": 3
   },
   "file_extension": ".py",
   "mimetype": "text/x-python",
   "name": "python",
   "nbconvert_exporter": "python",
   "pygments_lexer": "ipython3",
   "version": "3.11.0"
  }
 },
 "nbformat": 4,
 "nbformat_minor": 5
}
