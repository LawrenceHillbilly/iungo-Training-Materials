{
  "cells": [
    {
      "cell_type": "markdown",
      "metadata": {
        "id": "BG-JQ-EehNdj"
      },
      "source": [
        "# Coding the Monty Hall Problem\n",
        "\n",
        "You’re on Let’s Make A Deal! Your host, Monty Hall, shows you three doors. Behind 2 doors is a goat, behind the final door is a brand new car. You select a door, but before you open it, Monty shows you a goat behind a different door, and offers you the chance to change your mind to the remaining unopened door.\n",
        "\n",
        "What is the probability that you win the car?\n",
        "\n",
        "\n"
      ]
    },
    {
      "cell_type": "markdown",
      "metadata": {
        "id": "Rt_OqmHajVHg"
      },
      "source": [
        "First off, let's import **random** and **matplotlib**. We will run this simulation 1 million times and work out the chance at winning when the player twists (or switches) to the unselected door."
      ]
    },
    {
      "cell_type": "code",
      "execution_count": 1,
      "metadata": {
        "id": "ZFFcrYS_JWo7"
      },
      "outputs": [],
      "source": [
        "import random\n",
        "import matplotlib.pyplot as plt\n",
        "\n",
        "numGames = 500000\n",
        "wins = 0\n",
        "outcomes = []\n",
        "\n",
        "def get_round_doors():\n",
        "    carIndex = random.randint(0, 2)\n",
        "    doors = [0, 0, 0]\n",
        "    doors[carIndex] = 1\n",
        "    return doors\n",
        "\n",
        "def get_goat_from_different_door(doors, pick):\n",
        "    for i in range(len(doors)):\n",
        "        if doors[i] == 0 and i != pick:\n",
        "            return i\n"
      ]
    },
    {
      "cell_type": "markdown",
      "metadata": {
        "id": "A8WhrppAi6NE"
      },
      "source": [
        "Set the switch to True if the player always switches, False if the player doesn't switch. Next, we record win (1) or loss (0) in outcomes"
      ]
    },
    {
      "cell_type": "code",
      "execution_count": 2,
      "metadata": {
        "id": "Uu_8X_UMiy5u"
      },
      "outputs": [],
      "source": [
        "switch = True  # Set to True if the player always switches, False if the player doesn't switch\n",
        "\n",
        "for i in range(1, numGames):\n",
        "    pick = random.randint(0, 2)\n",
        "    doors = get_round_doors()\n",
        "\n",
        "    guaranteed_goat_position = get_goat_from_different_door(doors, pick)\n",
        "    if switch:\n",
        "        pick = 3 - pick - guaranteed_goat_position\n",
        "\n",
        "    # Record win (1) or loss (0) in outcomes\n",
        "    if doors[pick] == 1:\n",
        "        wins += 1\n",
        "        outcomes.append(1)  # Win\n",
        "    else:\n",
        "        outcomes.append(0)  # Loss"
      ]
    },
    {
      "cell_type": "markdown",
      "metadata": {
        "id": "xngaStrYiXOP"
      },
      "source": [
        "Then, we can calculate the probabilities for wins and losses"
      ]
    },
    {
      "cell_type": "code",
      "execution_count": 3,
      "metadata": {
        "id": "8RO6gUGciYpE"
      },
      "outputs": [],
      "source": [
        "losses = outcomes.count(0) / numGames\n",
        "win_probability = outcomes.count(1) / numGames"
      ]
    },
    {
      "cell_type": "markdown",
      "metadata": {},
      "source": []
    },
    {
      "cell_type": "markdown",
      "metadata": {
        "id": "b05Qzh_ZhmpR"
      },
      "source": [
        "Finally, we can plot a bar chart using **plt.bar** to show the probability of outcomes when the player always chooses to twist (change)"
      ]
    },
    {
      "cell_type": "code",
      "execution_count": 16,
      "metadata": {
        "id": "EEcz0GKpl618"
      },
      "outputs": [
        {
          "data": {
            "text/plain": [
              "<BarContainer object of 2 artists>"
            ]
          },
          "execution_count": 16,
          "metadata": {},
          "output_type": "execute_result"
        },
        {
          "data": {
            "image/png": "[encoded data removed]",
            "text/plain": [
              "<Figure size 1000x600 with 1 Axes>"
            ]
          },
          "metadata": {},
          "output_type": "display_data"
        }
      ],
      "source": [
        "plt.figure(figsize=(10, 6))\n",
        "plt.title(\"Monty Hall Problem Simulation, when the player always chooses to twist (change)\")\n",
        "plt.xlabel(\"Outcome\")\n",
        "plt.ylabel(\"Probability\")\n",
        "#plt.xticks([0, 1], [\"Loss\", \"Win\"])\n",
        "plt.bar([0, 1], [losses, win_probability], color = ['#FF0000', '#00FF00'], width = 0.9, tick_label = [\"Loss\", \"Win\"])"
      ]
    },
    {
      "cell_type": "markdown",
      "metadata": {
        "id": "SlF99lwCjsMY"
      },
      "source": [
        "As we've discussed, the probability of winning when you twist should be around **2/3** or **66.66%**. Does your plot recreate this?"
      ]
    }
  ],
  "metadata": {
    "colab": {
      "provenance": []
    },
    "kernelspec": {
      "display_name": "Python 3",
      "name": "python3"
    },
    "language_info": {
      "codemirror_mode": {
        "name": "ipython",
        "version": 3
      },
      "file_extension": ".py",
      "mimetype": "text/x-python",
      "name": "python",
      "nbconvert_exporter": "python",
      "pygments_lexer": "ipython3",
      "version": "3.11.0"
    }
  },
  "nbformat": 4,
  "nbformat_minor": 0
}
