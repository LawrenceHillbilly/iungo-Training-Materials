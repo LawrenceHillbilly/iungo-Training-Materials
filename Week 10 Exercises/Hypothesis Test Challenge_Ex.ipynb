{
  "cells": [
    {
      "cell_type": "markdown",
      "metadata": {
        "id": "ziuQw551Q7z3"
      },
      "source": [
        "# **Hypothesis Test Challenge**\n",
        "- Test whether the performance metrics and latency times in the data are normally distributed.\n",
        "Use the Shapiro-Wilk test for normality.\n",
        "A p-value > 0.05 suggests that the data is normally distributed.\n",
        "**Don't forget to state your null hypothesis!*"
      ]
    },
    {
      "cell_type": "code",
      "execution_count": null,
      "metadata": {
        "id": "THunISg9NG2m"
      },
      "outputs": [],
      "source": [
        "import pandas as pd\n",
        "import numpy as np\n",
        "import matplotlib.pyplot as plt\n",
        "import seaborn as sns\n",
        "import scipy.stats as stats\n"
      ]
    },
    {
      "cell_type": "code",
      "execution_count": null,
      "metadata": {
        "id": "hePM1496NLhl"
      },
      "outputs": [],
      "source": [
        "# Load the dataset\n",
        "data = pd.DataFrame({\n",
        "    'Group_A_Performance': np.random.normal(loc=50, scale=10, size=300),\n",
        "    'Group_B_Performance': np.random.normal(loc=55, scale=10, size=300),\n",
        "    'Group_C_Latency': np.random.exponential(scale=10, size=300)\n",
        "})"
      ]
    },
    {
      "cell_type": "markdown",
      "metadata": {
        "id": "0V7DQTLcQ4FZ"
      },
      "source": [
        "# 2. Test for Normality"
      ]
    },
    {
      "cell_type": "code",
      "execution_count": null,
      "metadata": {
        "colab": {
          "base_uri": "https://localhost:8080/"
        },
        "id": "-vT6verTNx82",
        "outputId": "ef13a30b-2913-47fe-b1a4-344b5d150968"
      },
      "outputs": [],
      "source": [
        "for column in data.columns:\n",
        "    # You fill in the rest!\n"
      ]
    },
    {
      "cell_type": "markdown",
      "metadata": {
        "id": "fjEQQAPfRTPj"
      },
      "source": [
        "# 3. Visualise Distributions"
      ]
    },
    {
      "cell_type": "code",
      "execution_count": null,
      "metadata": {
        "colab": {
          "base_uri": "https://localhost:8080/",
          "height": 807
        },
        "id": "EfNA8uw0OVEf",
        "outputId": "23a1a10d-834f-470b-ee52-306e34aba224"
      },
      "outputs": [],
      "source": [
        "\n"
      ]
    },
    {
      "cell_type": "markdown",
      "metadata": {
        "id": "e5y-Wbs_RZZy"
      },
      "source": [
        "# 4. Hypothesis Testing\n",
        "\n",
        "*   Compare the means of Group A and Group B performance metrics using a two-sample\n",
        "*   Compare Group C latency with Group A performance using a Mann-Whitney U test."
      ]
    },
    {
      "cell_type": "code",
      "execution_count": null,
      "metadata": {
        "colab": {
          "base_uri": "https://localhost:8080/"
        },
        "id": "NjdkbIepOXKU",
        "outputId": "5391ec81-e35b-4821-96de-b54918c988de"
      },
      "outputs": [],
      "source": [
        "\n"
      ]
    },
    {
      "cell_type": "code",
      "execution_count": null,
      "metadata": {
        "colab": {
          "base_uri": "https://localhost:8080/"
        },
        "id": "FEfxeZf4OZBX",
        "outputId": "f5f6d09a-8089-4d69-b720-92c627dbfeb0"
      },
      "outputs": [],
      "source": [
        "\n"
      ]
    },
    {
      "cell_type": "markdown",
      "metadata": {
        "id": "6qu-hoedRt-V"
      },
      "source": [
        "# 5. Visualise Comparisons\n",
        "\n",
        "- Create boxplots to compare distributions across groups.\n",
        "- Highlight differences visually to supplement the hypothesis test results.\n",
        "\n"
      ]
    },
    {
      "cell_type": "code",
      "execution_count": null,
      "metadata": {
        "colab": {
          "base_uri": "https://localhost:8080/",
          "height": 651
        },
        "id": "KX5sXQOlOa7J",
        "outputId": "353be099-60ad-454a-c742-c49a11c097b8"
      },
      "outputs": [],
      "source": []
    },
    {
      "cell_type": "code",
      "execution_count": null,
      "metadata": {
        "id": "GLxavYvBQwKR"
      },
      "outputs": [],
      "source": []
    }
  ],
  "metadata": {
    "colab": {
      "provenance": []
    },
    "kernelspec": {
      "display_name": "Python 3",
      "name": "python3"
    },
    "language_info": {
      "name": "python"
    }
  },
  "nbformat": 4,
  "nbformat_minor": 0
}
