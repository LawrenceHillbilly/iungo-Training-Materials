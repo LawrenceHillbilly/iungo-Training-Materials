{
 "cells": [
  {
   "cell_type": "code",
   "execution_count": 3,
   "id": "9090ebfb",
   "metadata": {},
   "outputs": [],
   "source": [
    "import json\n",
    "import csv\n",
    "\n",
    "# #Read the booking json data into python. \n",
    "with open(\"Andy Elms - 255003_customer_records.json\", \"r+\") as infile:\n",
    "    booking_data=json.load(infile)\n",
    "\n",
    "#Using a for loop, assigning unique ID’s to each entry \n",
    "UniqueID=0\n",
    "for booking in booking_data:\n",
    "    # add an incremented unique ID to each record\n",
    "    booking[\"unique_record_id\"] = UniqueID\n",
    "    UniqueID += 1\n",
    "\n",
    "    #Standardise the active_customer field for each entry.\n",
    "    #Check through each record to see if the active_customer flag is a Boolean value of True or False, \n",
    "    # or text strings using the words \"true\" and \"false\"\n",
    "\n",
    "    #Record the individual active customer field value \n",
    "    active_customer_field_value = booking[\"active_customer\"]\n",
    "    \n",
    "    if booking[\"active_customer\"]==True:\n",
    "        #If the active customer field is a Boolean type already, no change is necessary\n",
    "        #Do nothing\n",
    "        pass\n",
    "\n",
    "    elif booking[\"active_customer\"]==False:\n",
    "        #If the active customer field is a Boolean type, value False, no change is necessary\n",
    "        #Do nothing\n",
    "        pass\n",
    "\n",
    "    elif active_customer_field_value.lower==\"true\":\n",
    "        #If the active customer field is a string type with value \"true\", capitalised or otherwise \n",
    "        #Change the active customer field value to a Boolean value True\n",
    "        booking[\"active_customer\"]=True\n",
    "\n",
    "    elif active_customer_field_value.lower==\"false\":\n",
    "        #If the active customer field is a string type with value \"false\", capitalised or otherwise  \n",
    "        #Change the active customer field value to a Boolean value False\n",
    "        booking[\"active_customer\"]=False\n",
    "\n",
    "# Load the transformed data to a CSV file called bookings_transformed.csv\n",
    "with open(\"bookings_transformed.csv\", \"w\") as outfile:\n",
    "    writer = csv.writer(outfile)\n",
    "    writer.writerow(booking_data[0].keys()) #for the frst row, writes a header considing of each key separated by commas\n",
    "    for booking in booking_data:\n",
    "        writer.writerow(booking.values())\n",
    "\n"
   ]
  }
 ],
 "metadata": {
  "kernelspec": {
   "display_name": "Python 3",
   "language": "python",
   "name": "python3"
  },
  "language_info": {
   "codemirror_mode": {
    "name": "ipython",
    "version": 3
   },
   "file_extension": ".py",
   "mimetype": "text/x-python",
   "name": "python",
   "nbconvert_exporter": "python",
   "pygments_lexer": "ipython3",
   "version": "3.11.0"
  }
 },
 "nbformat": 4,
 "nbformat_minor": 5
}
