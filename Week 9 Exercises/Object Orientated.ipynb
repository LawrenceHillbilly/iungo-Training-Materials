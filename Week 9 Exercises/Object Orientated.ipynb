{
 "cells": [
  {
   "cell_type": "markdown",
   "id": "5342f6b6",
   "metadata": {},
   "source": [
    "<h1>Templates</h1>\n",
    "\n",
    "<h4>Exercise X</h4>\n",
    "<p>Details about the exercise</p>\n",
    "<ul> \n",
    "    <li>Do this</li>\n",
    "    <li>Then do that</li>\n",
    "</ul>"
   ]
  },
  {
   "cell_type": "markdown",
   "id": "89ac5131",
   "metadata": {},
   "source": [
    "<h1> h1 Text. The top header. These words are called Inner HTML</h1>\n",
    "<h2> h2 Text.</h2>\n",
    "<h3> h3 Text.</h3>\n",
    "<h4> h4 Text.</h4>\n",
    "\n",
    "<p> p text. The paragraph body. </p>\n",
    "<ul> \n",
    "    <li> This is an unordered list </li>\n",
    "    <li> Each line is a list item </li>\n",
    "</ul>"
   ]
  },
  {
   "cell_type": "markdown",
   "id": "10b00eb8",
   "metadata": {},
   "source": [
    "<h4>Data Structures Recap</h4>\n",
    "<p>List and dictionary</p>"
   ]
  },
  {
   "cell_type": "code",
   "execution_count": null,
   "id": "e3f5657a",
   "metadata": {},
   "outputs": [
    {
     "name": "stdout",
     "output_type": "stream",
     "text": [
      "Dan\n"
     ]
    }
   ],
   "source": [
    "my_var = [\"Matt\", \"Dan\", \"Jose\"]\n",
    "\n",
    "#Remember, index starts at 0. Any position n in the list, index is n-1 \n",
    "#Final item in teh list is index length - 1\n",
    "print(my_var[1])"
   ]
  },
  {
   "cell_type": "code",
   "execution_count": 13,
   "id": "7245ff3e",
   "metadata": {},
   "outputs": [
    {
     "name": "stdout",
     "output_type": "stream",
     "text": [
      "Spark!!!!!\n",
      "Six Sigma!!!!!\n",
      "Power BI!!!!!\n",
      "[['Python', 'Spark', '!', '!', '!', '!', '!', '!'], ['Lean', 'Six Sigma', '!', '!', '!', '!', '!', '!'], ['Power Platform', 'Power BI', '!', '!', '!', '!', '!', '!']]\n"
     ]
    }
   ],
   "source": [
    "subject_areas = [[\"Python\", \"Spark\"], [\"Lean\", \"Six Sigma\"], [\"Power Platform\", \"Power BI\"]]\n",
    "#This is a list of lists\n",
    "\n",
    "#tuples are regular brackets ()\n",
    "#dictionaries are curly brackets {}\n",
    "#lists are square brackets []\n",
    "\n",
    "#print(subject_areas[0][0])\n",
    "\n",
    "for i in subject_areas:\n",
    "    subject = i[1] + \"!!!!!\"\n",
    "    print(subject)\n",
    "\n",
    "for index in range(len(subject_areas)):\n",
    "    subject_areas[index] += \"!!!!!!\"\n",
    "print (subject_areas)\n"
   ]
  },
  {
   "cell_type": "code",
   "execution_count": null,
   "id": "a30e0187",
   "metadata": {},
   "outputs": [
    {
     "name": "stdout",
     "output_type": "stream",
     "text": [
      "[['Python!!!!!!', 'Spark!!!!!!', 'Pandas!!!!!!'], ['Lean!!!!!!', 'Six Sigma!!!!!!'], ['Power Platform!!!!!!', 'Power BI!!!!!!']]\n"
     ]
    }
   ],
   "source": [
    "subject_areas = [[\"Python\", \"Spark\", \"Pandas\"], [\"Lean\", \"Six Sigma\"], [\"Power Platform\", \"Power BI\"]]\n",
    "#This is a list of lists\n",
    "\n",
    "for index in range(len(subject_areas)):\n",
    "    for index2 in range(len(subject_areas[index])):\n",
    "        subject_areas[index][index2] += \"!!!!!!\"\n",
    "print (subject_areas)\n",
    "#Programming is ery simple rules combined in complicated ways"
   ]
  },
  {
   "cell_type": "code",
   "execution_count": 26,
   "id": "20ca7673",
   "metadata": {},
   "outputs": [
    {
     "name": "stdout",
     "output_type": "stream",
     "text": [
      "Games Development\n"
     ]
    }
   ],
   "source": [
    "#Dictionaries\n",
    "#They have indexes. Accessed by key value parts \n",
    "\n",
    "employee = {\n",
    "    \"name\" : \"Matt\",\n",
    "    \"grade\" : 5,\n",
    "    \"age\" : 26,\n",
    "    \"salary\" : \"REDACTED\",\n",
    "    \"subjects\" : [\"Data Engineering\", \"Lean Six Sigma\", \"SOftware Engineering\"]\n",
    "}\n",
    "#To print, reference the key in SQUARE brackets\n",
    "employee[\"name\"] = \"Matthew\"\n",
    "\n",
    "#To add a new key, just assign it in the dictionary does the rest \n",
    "employee[\"role\"] = \"Product Manager/Lead Tutor\"\n",
    "#print(employee[\"role\"])\n",
    "\n",
    "#Use append to add a new value onto the end of a list\n",
    "employee[\"subjects\"].append(\"Games Development\")\n",
    "\n",
    "print(employee[\"subjects\"][-1])"
   ]
  },
  {
   "cell_type": "code",
   "execution_count": null,
   "id": "711dc938",
   "metadata": {},
   "outputs": [],
   "source": [
    "\n",
    "employee1 = {\n",
    "    \"name\" : \"Matt\",\n",
    "    \"grade\" : 5,\n",
    "    \"age\" : 26,\n",
    "    \"salary\" : \"REDACTED\",\n",
    "    \"subjects\" : [\"Data Engineering\", \"Lean Six Sigma\", \"Software Engineering\"]\n",
    "}\n",
    "\n",
    "\n",
    "employee2 = {\n",
    "    \"name\" : \"Dan\",\n",
    "    \"grade\" : 25,\n",
    "    \"age\" : 21,\n",
    "    \"salary\" : \"REDACTED\",\n",
    "    \"subjects\" : [\"Data Engineering\", \"Lean Six Sigma\", \"SUstainability\"]\n",
    "}\n",
    "\n",
    "#Need to create a standardised template for objects, then use that for each employee. This template os called a CLASS"
   ]
  },
  {
   "cell_type": "markdown",
   "id": "ccbd4811",
   "metadata": {},
   "source": [
    "<h1> Classes </h1>\n",
    "<p> Classess are templates for objects. Objects are instances of classes</p>\n",
    "<p> Objects encapsulate behaviour</p>"
   ]
  },
  {
   "cell_type": "code",
   "execution_count": 39,
   "id": "f7751205",
   "metadata": {},
   "outputs": [
    {
     "name": "stdout",
     "output_type": "stream",
     "text": [
      "26\n",
      "21\n",
      "26\n",
      "22\n"
     ]
    }
   ],
   "source": [
    "#Creating a class template\n",
    "#Classes are collections of variables and functions\n",
    "#Variables define the cass\n",
    "#Functions define what they can do\n",
    "class Employee:\n",
    "    #Most classes need a constructor - a special type of function that runs every time we define a new class\n",
    "    def __init__(self, name, age):\n",
    "        self.name = name\n",
    "        self.age = age\n",
    "    \n",
    "    def age_up(self):\n",
    "        self.age += 1\n",
    "    \n",
    "e1 = Employee(\"Matt\", 26)\n",
    "e2 = Employee(\"Dan\", 21)\n",
    "\n",
    "print(e1.age)\n",
    "print(e2.age)\n",
    "\n",
    "e2.age_up()\n",
    "\n",
    "print(e1.age)\n",
    "print(e2.age)"
   ]
  },
  {
   "cell_type": "markdown",
   "id": "46c8e2fc",
   "metadata": {},
   "source": [
    "<h3> Exercise </h3>\n",
    "<p> Create a class called Car. A car should have two attributes, manufacturer and model. A car should have one function called drive, that when called prints data in the following format:\n",
    "“Manufacturer Model goes Vrooom” </p>\n"
   ]
  },
  {
   "cell_type": "code",
   "execution_count": 55,
   "id": "09a64297",
   "metadata": {},
   "outputs": [
    {
     "name": "stdout",
     "output_type": "stream",
     "text": [
      "Ford Escort goes Vrooom\n",
      "The Ford Escort will travel 180 miles if going Vrooom for 3 hours at 60 mph\n"
     ]
    }
   ],
   "source": [
    "#<p> Create a class called Car. A car should have two attributes, manufacturer and model. \n",
    "# A car should have one function called drive, that when called prints data in the following format:\n",
    "# “Manufacturer Model goes Vrooom” </p>\n",
    "\n",
    "#Extension: Add another attribute called MPH. Add a function called get_distance that takes one parameter called hours, and returns the total number of miles the car will travel in that time\n",
    "\n",
    "class Car:\n",
    "    def __init__(self, manufacturer, model, hours, MPH):\n",
    "        self.manufacturer = manufacturer\n",
    "        self.model = model\n",
    "        self.hours = hours\n",
    "        self.MPH = MPH\n",
    "         \n",
    "    def drive(self):\n",
    "        return f\"{self.manufacturer} {self.model} goes Vrooom\"\n",
    "\n",
    "    def get_distance(self):\n",
    "        distance = self.MPH * self.hours\n",
    "        return f\"The {self.manufacturer} {self.model} will travel {distance} miles if going Vrooom for {self.hours} hours at {self.MPH} mph\"\n",
    "\n",
    "Car1 = Car(\"Ford\", \"Escort\", 3, 60)\n",
    "\n",
    "print(Car1.drive())\n",
    "print(Car1.get_distance())\n"
   ]
  },
  {
   "cell_type": "code",
   "execution_count": null,
   "id": "cab7b80f",
   "metadata": {},
   "outputs": [],
   "source": []
  }
 ],
 "metadata": {
  "kernelspec": {
   "display_name": "Python 3",
   "language": "python",
   "name": "python3"
  },
  "language_info": {
   "codemirror_mode": {
    "name": "ipython",
    "version": 3
   },
   "file_extension": ".py",
   "mimetype": "text/x-python",
   "name": "python",
   "nbconvert_exporter": "python",
   "pygments_lexer": "ipython3",
   "version": "3.11.0"
  }
 },
 "nbformat": 4,
 "nbformat_minor": 5
}
